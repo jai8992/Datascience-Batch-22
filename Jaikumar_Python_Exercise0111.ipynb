{
 "cells": [
  {
   "cell_type": "markdown",
   "metadata": {},
   "source": [
    "### The questions for the exercises are given above the cells and the expected output is given below the cell. Please type the code inserting a new cell below the question because if you run the expected output cell the output would vanish! Happy learning! "
   ]
  },
  {
   "cell_type": "markdown",
   "metadata": {},
   "source": [
    "## 1. Write a Python program to count the number of even and odd numbers from a series of numbers."
   ]
  },
  {
   "cell_type": "code",
   "execution_count": 11,
   "metadata": {},
   "outputs": [
    {
     "name": "stdout",
     "output_type": "stream",
     "text": [
      "Number of even numbers :5\n",
      "Number of odd numbers :6\n"
     ]
    }
   ],
   "source": [
    "lst = [4,5,23,45,24,232,34,2,1,7,9]\n",
    "odd_count = 0\n",
    "even_count=0\n",
    "for i in lst:\n",
    "    if i%2==0:\n",
    "        even_count+=1\n",
    "    else:\n",
    "        odd_count+=1\n",
    "print(\"Number of even numbers :\" + str(even_count))\n",
    "print(\"Number of odd numbers :\" + str(odd_count))\n"
   ]
  },
  {
   "cell_type": "markdown",
   "metadata": {},
   "source": [
    "## 2. Write a Python program to find numbers between 100 and 400 (both included) where each digit of a number is an even number. The numbers obtained should be printed in a comma-separated sequence."
   ]
  },
  {
   "cell_type": "code",
   "execution_count": 20,
   "metadata": {},
   "outputs": [
    {
     "name": "stdout",
     "output_type": "stream",
     "text": [
      "[200, 202, 204, 206, 208, 220, 222, 224, 226, 228, 240, 242, 244, 246, 248, 260, 262, 264, 266, 268, 280, 282, 284, 286, 288, 400]\n",
      "200,202,204,206,208,220,222,224,226,228,240,242,244,246,248,260,262,264,266,268,280,282,284,286,288,400,"
     ]
    }
   ],
   "source": [
    "num = list(range(100,401,2))\n",
    "even_num = []\n",
    "for i in num:\n",
    "    tenth_digit = int(i/10)\n",
    "    hundredth_digit = int(i/100)\n",
    "    if(hundredth_digit%2==0):\n",
    "        if(tenth_digit%2==0):\n",
    "            even_num.append(i)\n",
    "print(even_num)\n",
    "\n",
    "for i in range(100,401):\n",
    "    if((i//10)%2==0) and ((i//100)%2==0) and (i%2==0):\n",
    "        print(i, end=\",\")"
   ]
  },
  {
   "cell_type": "code",
   "execution_count": null,
   "metadata": {},
   "outputs": [],
   "source": []
  },
  {
   "cell_type": "code",
   "execution_count": null,
   "metadata": {},
   "outputs": [],
   "source": []
  },
  {
   "cell_type": "markdown",
   "metadata": {},
   "source": [
    "## 3. Write a Python program to calculate a dog's age in dog's years. Go to the editor\n",
    "Note: For the first two years, a dog year is equal to 10.5 human years. After that, each dog year equals 4 human years."
   ]
  },
  {
   "cell_type": "code",
   "execution_count": 23,
   "metadata": {},
   "outputs": [
    {
     "name": "stdout",
     "output_type": "stream",
     "text": [
      "The dog's age in dog's years is 93\n"
     ]
    }
   ],
   "source": [
    "dog_age = int(input(\"Input a dog's age in human years: \"))\n",
    "final_age=0\n",
    "if(dog_age<=2):\n",
    "    final_age=dog_age*10.5\n",
    "else:\n",
    "    final_age = 21+((dog_age-2)*4)\n",
    "#2*10.5 + (n-2)*4 \n",
    "print(\"The dog's age in dog's years is \" + str(final_age))"
   ]
  },
  {
   "cell_type": "markdown",
   "metadata": {},
   "source": [
    "## 4. Write a Python function to find the Max of three numbers."
   ]
  },
  {
   "cell_type": "code",
   "execution_count": 51,
   "metadata": {},
   "outputs": [
    {
     "name": "stdout",
     "output_type": "stream",
     "text": [
      "The Entered numbers are : (4, 9, 7)\n",
      "9\n"
     ]
    }
   ],
   "source": [
    "#num1= (3, 6, -5)\n",
    "#print(\"The Three numbers are : \" + str(num1))\n",
    "#print(max(num1))\n",
    "\n",
    "def max_num(a):\n",
    "    print(\"The Entered numbers are : \" + str (a))\n",
    "    print(max(a))\n",
    "    \n",
    "   # print(str(a).max())\n",
    "\n",
    "num1 = input(\"Enter the numbers: \")\n",
    "n1 = num1.split(\",\")\n",
    "tup_num = tuple(int(i) for i in n1)\n",
    "max_num(tup_num)\n"
   ]
  },
  {
   "cell_type": "markdown",
   "metadata": {},
   "source": [
    "## 5. Write a Python function that takes a number as a parameter and check the number is prime or not."
   ]
  },
  {
   "cell_type": "code",
   "execution_count": 98,
   "metadata": {},
   "outputs": [
    {
     "name": "stdout",
     "output_type": "stream",
     "text": [
      "True\n"
     ]
    }
   ],
   "source": [
    "def prime_num(n):\n",
    "    flag = 0\n",
    "    if(n==0) or (n==1):\n",
    "        print(True)\n",
    "    else:\n",
    "        for i in range (2,n-1):\n",
    "            if (n%i==0):\n",
    "                print(False)\n",
    "                flag =1\n",
    "                break\n",
    "        if (flag==0):\n",
    "            print(True)\n",
    "\n",
    "in_num = int(input(\"Enter the numer: \"))           \n",
    "prime_num(in_num)"
   ]
  },
  {
   "cell_type": "markdown",
   "metadata": {},
   "source": [
    "## 6. Write a Python function that accepts a string and calculate the number of upper case letters and lower case letters. Go to the editor\n"
   ]
  },
  {
   "cell_type": "code",
   "execution_count": 102,
   "metadata": {},
   "outputs": [
    {
     "name": "stdout",
     "output_type": "stream",
     "text": [
      "No. of Upper case characters :3\n",
      "No. of Lower case characters :106\n"
     ]
    }
   ],
   "source": [
    "def case_cal(strng):\n",
    "    upper_case_count = 0\n",
    "    lower_case_count = 0\n",
    "    for i in strng:\n",
    "        if(i.isupper()):\n",
    "            upper_case_count+=1\n",
    "        elif(i.islower()):\n",
    "            lower_case_count+=1\n",
    "    print(\"No. of Upper case characters :\" + str(upper_case_count))\n",
    "    print (\"No. of Lower case characters :\" + str(lower_case_count))\n",
    "\n",
    "s = input(\"Enter the String: \")\n",
    "case_cal(s)\n"
   ]
  },
  {
   "cell_type": "markdown",
   "metadata": {},
   "source": [
    "## 7. Write a Python program to reverse a string. "
   ]
  },
  {
   "cell_type": "code",
   "execution_count": 109,
   "metadata": {},
   "outputs": [
    {
     "name": "stdout",
     "output_type": "stream",
     "text": [
      "The reversed string: desrever gnisu nohtyp ni gnirts a esrever ot woh\n",
      "The reversed string: desrever gnisu nohtyp ni gnirts a esrever ot woh\n"
     ]
    },
    {
     "name": "stdout",
     "output_type": "stream",
     "text": [
      "\u001b[1;31mInit signature:\u001b[0m \u001b[0mreversed\u001b[0m\u001b[1;33m(\u001b[0m\u001b[0msequence\u001b[0m\u001b[1;33m,\u001b[0m \u001b[1;33m/\u001b[0m\u001b[1;33m)\u001b[0m\u001b[1;33m\u001b[0m\u001b[1;33m\u001b[0m\u001b[0m\n",
      "\u001b[1;31mDocstring:\u001b[0m      Return a reverse iterator over the values of the given sequence.\n",
      "\u001b[1;31mType:\u001b[0m           type\n",
      "\u001b[1;31mSubclasses:\u001b[0m     "
     ]
    }
   ],
   "source": [
    "str1 = input(\"The original string is: \")\n",
    "print(\"The reversed string: \" + str1[::-1])\n",
    "print(\"The reversed string: \" + \"\".join(reversed(str1)))"
   ]
  },
  {
   "cell_type": "markdown",
   "metadata": {},
   "source": [
    "## 8. Write a Python program to find  the greatest common divisor (gcd) of two integers."
   ]
  },
  {
   "cell_type": "code",
   "execution_count": 134,
   "metadata": {},
   "outputs": [
    {
     "name": "stdout",
     "output_type": "stream",
     "text": [
      "The two numbers are: (12, 14)\n",
      "The GCD of the numbers are: 2\n"
     ]
    }
   ],
   "source": [
    "def get_lcm(num2):\n",
    "    lcm_list = []\n",
    "    for i in range(1,num2+1):\n",
    "        if(num2%i==0):\n",
    "            lcm_list.append(i)\n",
    "    return lcm_list\n",
    "\n",
    "gcd_in = input(\"Enter the numbers are: \")\n",
    "num_list = list(tuple(int(i) for i in gcd_in.split(\",\")))\n",
    "print(\"The two numbers are: \" + str(tuple(num_list)))\n",
    "lcm_list1 = get_lcm(num_list[0])\n",
    "lcm_list2 = get_lcm(num_list[1])\n",
    "gcd_list = []\n",
    "for i in lcm_list1:\n",
    "    if(i in lcm_list2):\n",
    "        gcd_list.append(i)\n",
    "gcd_list.sort()\n",
    "print(\"The GCD of the numbers are: \" + str(gcd_list[-1]))"
   ]
  }
 ],
 "metadata": {
  "kernelspec": {
   "display_name": "Python 3",
   "language": "python",
   "name": "python3"
  },
  "language_info": {
   "codemirror_mode": {
    "name": "ipython",
    "version": 3
   },
   "file_extension": ".py",
   "mimetype": "text/x-python",
   "name": "python",
   "nbconvert_exporter": "python",
   "pygments_lexer": "ipython3",
   "version": "3.11.5"
  }
 },
 "nbformat": 4,
 "nbformat_minor": 4
}
